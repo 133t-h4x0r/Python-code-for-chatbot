{
  "nbformat": 4,
  "nbformat_minor": 0,
  "metadata": {
    "colab": {
      "provenance": [],
      "include_colab_link": true
    },
    "kernelspec": {
      "name": "python3",
      "display_name": "Python 3"
    },
    "language_info": {
      "name": "python"
    }
  },
  "cells": [
    {
      "cell_type": "markdown",
      "metadata": {
        "id": "view-in-github",
        "colab_type": "text"
      },
      "source": [
        "<a href=\"https://colab.research.google.com/github/133t-h4x0r/Python-code-for-chatbot/blob/main/AI_.ipynb\" target=\"_parent\"><img src=\"https://colab.research.google.com/assets/colab-badge.svg\" alt=\"Open In Colab\"/></a>"
      ]
    },
    {
      "cell_type": "code",
      "execution_count": null,
      "metadata": {
        "colab": {
          "base_uri": "https://localhost:8080/"
        },
        "id": "YdAvtsywlS8U",
        "outputId": "b5543f29-49b5-4bff-9d64-60e29e65c692"
      },
      "outputs": [
        {
          "output_type": "stream",
          "name": "stdout",
          "text": [
            "Q: What to eat when hemoglobin is low?\n",
            "→ Intent: nutrition\n",
            "\n",
            "Q: Is paracetamol safe during pregnancy?\n",
            "→ Intent: medicine\n",
            "\n",
            "Q: What to do in case of food poisoning?\n",
            "→ Intent: nutrition\n",
            "\n",
            "Q: Can diabetics eat bananas?\n",
            "→ Intent: nutrition\n",
            "\n",
            "Q: What are early signs of dengue?\n",
            "→ Intent: emergency\n",
            "\n"
          ]
        }
      ],
      "source": [
        "# Simple Intent Classifier\n",
        "\n",
        "def classify_intent(question):\n",
        "    question = question.lower()\n",
        "\n",
        "    # Define keywords per intent\n",
        "    intent_keywords = {\n",
        "        \"nutrition\": [\"eat\", \"food\", \"diet\", \"banana\", \"hydration\", \"fruits\"],\n",
        "        \"medicine\": [\"paracetamol\", \"antibiotic\", \"tablet\", \"medicine\", \"safe\"],\n",
        "        \"emergency\": [\"fever\", \"dengue\", \"food poisoning\", \"emergency\", \"pain\", \"vomit\"],\n",
        "        \"general_health\": [\"blood pressure\", \"baby\", \"signs\", \"symptoms\"]\n",
        "    }\n",
        "\n",
        "    for intent, keywords in intent_keywords.items():\n",
        "        for keyword in keywords:\n",
        "            if keyword in question:\n",
        "                return intent\n",
        "\n",
        "    return \"unknown\"\n",
        "\n",
        "# Test Example\n",
        "questions = [\n",
        "    \"What to eat when hemoglobin is low?\",\n",
        "    \"Is paracetamol safe during pregnancy?\",\n",
        "    \"What to do in case of food poisoning?\",\n",
        "    \"Can diabetics eat bananas?\",\n",
        "    \"What are early signs of dengue?\",\n",
        "]\n",
        "\n",
        "for q in questions:\n",
        "    print(f\"Q: {q}\")\n",
        "    print(f\"→ Intent: {classify_intent(q)}\\n\")"
      ]
    }
  ]
}